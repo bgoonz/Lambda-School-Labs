{
  "nbformat": 4,
  "nbformat_minor": 0,
  "metadata": {
    "kernelspec": {
      "display_name": "Python 3",
      "language": "python",
      "name": "python3"
    },
    "language_info": {
      "codemirror_mode": {
        "name": "ipython",
        "version": 3
      },
      "file_extension": ".py",
      "mimetype": "text/x-python",
      "name": "python",
      "nbconvert_exporter": "python",
      "pygments_lexer": "ipython3",
      "version": "3.7.1"
    },
    "colab": {
      "name": "toll_parser_illinois.ipynb",
      "version": "0.3.2",
      "provenance": []
    }
  },
  "cells": [
    {
      "cell_type": "code",
      "metadata": {
        "id": "KyFTq6v-9FB1",
        "colab_type": "code",
        "colab": {}
      },
      "source": [
        "import pandas as pd\n",
        "from bs4 import BeautifulSoup\n",
        "import requests"
      ],
      "execution_count": 0,
      "outputs": []
    },
    {
      "cell_type": "code",
      "metadata": {
        "id": "E3MjyH_99FB3",
        "colab_type": "code",
        "colab": {}
      },
      "source": [
        "website_url = requests.get('https://www.illinoistollway.com/tolling-information#2019Rates').text"
      ],
      "execution_count": 0,
      "outputs": []
    },
    {
      "cell_type": "code",
      "metadata": {
        "id": "GXGOqAuS9FB5",
        "colab_type": "code",
        "colab": {}
      },
      "source": [
        "soup = BeautifulSoup(website_url, 'html.parser')"
      ],
      "execution_count": 0,
      "outputs": []
    },
    {
      "cell_type": "code",
      "metadata": {
        "id": "Prcs4-Qb9FCA",
        "colab_type": "code",
        "colab": {}
      },
      "source": [
        "my_table = soup.find('div', {'class':'page-content'})"
      ],
      "execution_count": 0,
      "outputs": []
    },
    {
      "cell_type": "code",
      "metadata": {
        "id": "8Sj9IRc99FCD",
        "colab_type": "code",
        "colab": {}
      },
      "source": [
        "smaller_table = my_table.find('div', {'class':'columns-1'})"
      ],
      "execution_count": 0,
      "outputs": []
    },
    {
      "cell_type": "code",
      "metadata": {
        "id": "TY4sW-Fw9FCF",
        "colab_type": "code",
        "colab": {}
      },
      "source": [
        "table_table = smaller_table.find('div', {'class':'portlet-boundary portlet-boundary_56_ portlet-static portlet-static-end portlet-borderless portlet-journal-content ', 'id': 'p_p_id_56_INSTANCE_bltNHBO1zL1X_'})"
      ],
      "execution_count": 0,
      "outputs": []
    },
    {
      "cell_type": "code",
      "metadata": {
        "id": "kfDyNj_m9FCJ",
        "colab_type": "code",
        "colab": {}
      },
      "source": [
        "highway_lst = []\n",
        "highway_lst.append(table_table.h3.text)"
      ],
      "execution_count": 0,
      "outputs": []
    },
    {
      "cell_type": "code",
      "metadata": {
        "id": "9ac-K5DS9FCM",
        "colab_type": "code",
        "colab": {}
      },
      "source": [
        "table_body = table_table.tbody"
      ],
      "execution_count": 0,
      "outputs": []
    },
    {
      "cell_type": "code",
      "metadata": {
        "id": "EHbOQpkj9FCO",
        "colab_type": "code",
        "colab": {}
      },
      "source": [
        "tolling_location = table_body.find_all('td', {'align':'left'})"
      ],
      "execution_count": 0,
      "outputs": []
    },
    {
      "cell_type": "code",
      "metadata": {
        "id": "0Z9WdArI9FCQ",
        "colab_type": "code",
        "colab": {}
      },
      "source": [
        "tolling_location_list = []\n",
        "for i in tolling_location:\n",
        "    tolling_location_list.append(i.text)"
      ],
      "execution_count": 0,
      "outputs": []
    },
    {
      "cell_type": "markdown",
      "metadata": {
        "id": "CnqjSLfY9FCS",
        "colab_type": "text"
      },
      "source": [
        "### Jane Addams Toll Locations"
      ]
    },
    {
      "cell_type": "code",
      "metadata": {
        "id": "vUq0ah3a9FCT",
        "colab_type": "code",
        "colab": {
          "base_uri": "https://localhost:8080/",
          "height": 476
        },
        "outputId": "580b0836-6959-4c62-ceec-1b7d1860625e"
      },
      "source": [
        "tolling_location_list"
      ],
      "execution_count": 11,
      "outputs": [
        {
          "output_type": "execute_result",
          "data": {
            "text/plain": [
              "['South Beloit',\n",
              " 'East Riverside Boulevard*',\n",
              " 'Genoa Road (EB Exit)',\n",
              " 'Genoa Road (WB Exit)',\n",
              " 'Illinois 173*',\n",
              " 'Irene Road^',\n",
              " 'Belvidere',\n",
              " 'Illinois 47\\n\\t\\t\\t(EB Exit/WB Entrance) ^',\n",
              " 'Illinois 47\\n\\t\\t\\t(EB Entrance/WB Exit) ^',\n",
              " 'Marengo-Hampshire',\n",
              " 'Randall Road*',\n",
              " 'Elgin',\n",
              " 'Barrington Rd (EB Ent/WB Exit)',\n",
              " 'Barrington Rd (EB Exit/WB Ent)\\xa0^',\n",
              " 'Illinois Route 31*',\n",
              " 'Roselle Road (EB Entrance/WB Exit)',\n",
              " 'Roselle Road (EB Exit/WB Entrance)^',\n",
              " 'Meacham Road^',\n",
              " 'Illinois Route 25*',\n",
              " 'Illinois Route 59 Westbound Exit*',\n",
              " 'Illinois Route 59 Eastbound Exit*',\n",
              " 'I-290, Illinois Route 53*',\n",
              " 'Beverly Road*',\n",
              " 'Devon Avenue',\n",
              " 'Arlington Heights Road*',\n",
              " 'Elmhurst Road (EB Exit/WB Ent)',\n",
              " 'River Road']"
            ]
          },
          "metadata": {
            "tags": []
          },
          "execution_count": 11
        }
      ]
    },
    {
      "cell_type": "code",
      "metadata": {
        "id": "cBFZe4Zs9FCU",
        "colab_type": "code",
        "colab": {}
      },
      "source": [
        "all_times = table_body.find_all('td', {'align':'center'})"
      ],
      "execution_count": 0,
      "outputs": []
    },
    {
      "cell_type": "code",
      "metadata": {
        "id": "KbaLw7rd9FCW",
        "colab_type": "code",
        "colab": {}
      },
      "source": [
        "# HTML tags containing Jane Addams table\n",
        "all_times"
      ],
      "execution_count": 0,
      "outputs": []
    },
    {
      "cell_type": "code",
      "metadata": {
        "id": "uQO0SWE_9FCY",
        "colab_type": "code",
        "colab": {}
      },
      "source": [
        "catch_all = []\n",
        "for i in all_times:\n",
        "    catch_all.append(i.text)"
      ],
      "execution_count": 0,
      "outputs": []
    },
    {
      "cell_type": "code",
      "metadata": {
        "id": "M1vVj81b9FCa",
        "colab_type": "code",
        "colab": {}
      },
      "source": [
        "catch_all"
      ],
      "execution_count": 0,
      "outputs": []
    },
    {
      "cell_type": "markdown",
      "metadata": {
        "id": "hMDFwZeR9f5U",
        "colab_type": "text"
      },
      "source": [
        "### Create DataFrame (Jane Addams)"
      ]
    },
    {
      "cell_type": "code",
      "metadata": {
        "id": "yxSe4pnc9FCc",
        "colab_type": "code",
        "colab": {}
      },
      "source": [
        "df_jane = pd.DataFrame(columns=['id', 'Autos: I-Pass All Times', 'Autos: I-Pass Cash', 'Small Trucks Daytime',\n",
        "                                'Medium Trucks Daytime', 'Large Trucks Daytime', 'Small Trucks Overnight', \n",
        "                                'Medium Trucks Overnight', 'Large Trucks Overnight'])"
      ],
      "execution_count": 0,
      "outputs": []
    },
    {
      "cell_type": "code",
      "metadata": {
        "id": "mUXwHONd9FCe",
        "colab_type": "code",
        "colab": {}
      },
      "source": [
        "def divide_chunks(l, n): \n",
        "      \n",
        "    # looping till length l \n",
        "    for i in range(0, len(l), n):  \n",
        "        yield l[i:i + n] "
      ],
      "execution_count": 0,
      "outputs": []
    },
    {
      "cell_type": "code",
      "metadata": {
        "id": "UwFrHCLD9FCh",
        "colab_type": "code",
        "colab": {}
      },
      "source": [
        "n = 9\n",
        "\n",
        "x = list(divide_chunks(catch_all, n))"
      ],
      "execution_count": 0,
      "outputs": []
    },
    {
      "cell_type": "code",
      "metadata": {
        "id": "JAj1OSQB9FCj",
        "colab_type": "code",
        "colab": {}
      },
      "source": [
        "df_jane = pd.DataFrame(x, columns=['id', 'Autos: I-Pass All Times', 'Autos: I-Pass Cash', 'Small Trucks Daytime',\n",
        "                                'Medium Trucks Daytime', 'Large Trucks Daytime', 'Small Trucks Overnight', \n",
        "                                'Medium Trucks Overnight', 'Large Trucks Overnight'])"
      ],
      "execution_count": 0,
      "outputs": []
    },
    {
      "cell_type": "code",
      "metadata": {
        "id": "-IgZDNMn9FCm",
        "colab_type": "code",
        "colab": {
          "base_uri": "https://localhost:8080/",
          "height": 272
        },
        "outputId": "29d88a6d-83b2-443a-91ea-cd1c2ad30f80"
      },
      "source": [
        "df_jane.head()"
      ],
      "execution_count": 24,
      "outputs": [
        {
          "output_type": "execute_result",
          "data": {
            "text/html": [
              "<div>\n",
              "<style scoped>\n",
              "    .dataframe tbody tr th:only-of-type {\n",
              "        vertical-align: middle;\n",
              "    }\n",
              "\n",
              "    .dataframe tbody tr th {\n",
              "        vertical-align: top;\n",
              "    }\n",
              "\n",
              "    .dataframe thead th {\n",
              "        text-align: right;\n",
              "    }\n",
              "</style>\n",
              "<table border=\"1\" class=\"dataframe\">\n",
              "  <thead>\n",
              "    <tr style=\"text-align: right;\">\n",
              "      <th></th>\n",
              "      <th>id</th>\n",
              "      <th>Autos: I-Pass All Times</th>\n",
              "      <th>Autos: I-Pass Cash</th>\n",
              "      <th>Small Trucks Daytime</th>\n",
              "      <th>Medium Trucks Daytime</th>\n",
              "      <th>Large Trucks Daytime</th>\n",
              "      <th>Small Trucks Overnight</th>\n",
              "      <th>Medium Trucks Overnight</th>\n",
              "      <th>Large Trucks Overnight</th>\n",
              "      <th>Location</th>\n",
              "    </tr>\n",
              "  </thead>\n",
              "  <tbody>\n",
              "    <tr>\n",
              "      <th>0</th>\n",
              "      <td>1</td>\n",
              "      <td>$0.95</td>\n",
              "      <td>$1.90</td>\n",
              "      <td>$3.20</td>\n",
              "      <td>$4.75</td>\n",
              "      <td>$8.35</td>\n",
              "      <td>$2.10</td>\n",
              "      <td>$3.65</td>\n",
              "      <td>$6.25</td>\n",
              "      <td>South Beloit</td>\n",
              "    </tr>\n",
              "    <tr>\n",
              "      <th>1</th>\n",
              "      <td>2</td>\n",
              "      <td>$0.55</td>\n",
              "      <td>$1.10</td>\n",
              "      <td>$1.95</td>\n",
              "      <td>$2.80</td>\n",
              "      <td>$5.00</td>\n",
              "      <td>$1.25</td>\n",
              "      <td>$2.25</td>\n",
              "      <td>$3.75</td>\n",
              "      <td>East Riverside Boulevard*</td>\n",
              "    </tr>\n",
              "    <tr>\n",
              "      <th>2</th>\n",
              "      <td>3</td>\n",
              "      <td>$0.55</td>\n",
              "      <td>$1.10</td>\n",
              "      <td>$1.95</td>\n",
              "      <td>$2.80</td>\n",
              "      <td>$5.00</td>\n",
              "      <td>$1.25</td>\n",
              "      <td>$2.25</td>\n",
              "      <td>$3.75</td>\n",
              "      <td>Genoa Road (EB Exit)</td>\n",
              "    </tr>\n",
              "    <tr>\n",
              "      <th>3</th>\n",
              "      <td>3</td>\n",
              "      <td>$0.75</td>\n",
              "      <td>$1.50</td>\n",
              "      <td>$2.50</td>\n",
              "      <td>$3.75</td>\n",
              "      <td>$6.65</td>\n",
              "      <td>$1.65</td>\n",
              "      <td>$2.90</td>\n",
              "      <td>$5.00</td>\n",
              "      <td>Genoa Road (WB Exit)</td>\n",
              "    </tr>\n",
              "    <tr>\n",
              "      <th>4</th>\n",
              "      <td>4</td>\n",
              "      <td>$0.55</td>\n",
              "      <td>$1.10</td>\n",
              "      <td>$1.95</td>\n",
              "      <td>$2.80</td>\n",
              "      <td>$5.00</td>\n",
              "      <td>$1.25</td>\n",
              "      <td>$2.25</td>\n",
              "      <td>$3.75</td>\n",
              "      <td>Illinois 173*</td>\n",
              "    </tr>\n",
              "  </tbody>\n",
              "</table>\n",
              "</div>"
            ],
            "text/plain": [
              "  id Autos: I-Pass All Times  ... Large Trucks Overnight                   Location\n",
              "0  1                   $0.95  ...                  $6.25               South Beloit\n",
              "1  2                   $0.55  ...                  $3.75  East Riverside Boulevard*\n",
              "2  3                   $0.55  ...                  $3.75       Genoa Road (EB Exit)\n",
              "3  3                   $0.75  ...                  $5.00       Genoa Road (WB Exit)\n",
              "4  4                   $0.55  ...                  $3.75              Illinois 173*\n",
              "\n",
              "[5 rows x 10 columns]"
            ]
          },
          "metadata": {
            "tags": []
          },
          "execution_count": 24
        }
      ]
    },
    {
      "cell_type": "code",
      "metadata": {
        "id": "qSi9c27O9FCn",
        "colab_type": "code",
        "colab": {}
      },
      "source": [
        "df_jane['Location'] = tolling_location_list"
      ],
      "execution_count": 0,
      "outputs": []
    },
    {
      "cell_type": "code",
      "metadata": {
        "id": "YGpSAF9J9FCp",
        "colab_type": "code",
        "colab": {
          "base_uri": "https://localhost:8080/",
          "height": 272
        },
        "outputId": "da1b729a-238d-4e43-c87b-ae1ef1efd8e9"
      },
      "source": [
        "df_jane.head()"
      ],
      "execution_count": 23,
      "outputs": [
        {
          "output_type": "execute_result",
          "data": {
            "text/html": [
              "<div>\n",
              "<style scoped>\n",
              "    .dataframe tbody tr th:only-of-type {\n",
              "        vertical-align: middle;\n",
              "    }\n",
              "\n",
              "    .dataframe tbody tr th {\n",
              "        vertical-align: top;\n",
              "    }\n",
              "\n",
              "    .dataframe thead th {\n",
              "        text-align: right;\n",
              "    }\n",
              "</style>\n",
              "<table border=\"1\" class=\"dataframe\">\n",
              "  <thead>\n",
              "    <tr style=\"text-align: right;\">\n",
              "      <th></th>\n",
              "      <th>id</th>\n",
              "      <th>Autos: I-Pass All Times</th>\n",
              "      <th>Autos: I-Pass Cash</th>\n",
              "      <th>Small Trucks Daytime</th>\n",
              "      <th>Medium Trucks Daytime</th>\n",
              "      <th>Large Trucks Daytime</th>\n",
              "      <th>Small Trucks Overnight</th>\n",
              "      <th>Medium Trucks Overnight</th>\n",
              "      <th>Large Trucks Overnight</th>\n",
              "      <th>Location</th>\n",
              "    </tr>\n",
              "  </thead>\n",
              "  <tbody>\n",
              "    <tr>\n",
              "      <th>0</th>\n",
              "      <td>1</td>\n",
              "      <td>$0.95</td>\n",
              "      <td>$1.90</td>\n",
              "      <td>$3.20</td>\n",
              "      <td>$4.75</td>\n",
              "      <td>$8.35</td>\n",
              "      <td>$2.10</td>\n",
              "      <td>$3.65</td>\n",
              "      <td>$6.25</td>\n",
              "      <td>South Beloit</td>\n",
              "    </tr>\n",
              "    <tr>\n",
              "      <th>1</th>\n",
              "      <td>2</td>\n",
              "      <td>$0.55</td>\n",
              "      <td>$1.10</td>\n",
              "      <td>$1.95</td>\n",
              "      <td>$2.80</td>\n",
              "      <td>$5.00</td>\n",
              "      <td>$1.25</td>\n",
              "      <td>$2.25</td>\n",
              "      <td>$3.75</td>\n",
              "      <td>East Riverside Boulevard*</td>\n",
              "    </tr>\n",
              "    <tr>\n",
              "      <th>2</th>\n",
              "      <td>3</td>\n",
              "      <td>$0.55</td>\n",
              "      <td>$1.10</td>\n",
              "      <td>$1.95</td>\n",
              "      <td>$2.80</td>\n",
              "      <td>$5.00</td>\n",
              "      <td>$1.25</td>\n",
              "      <td>$2.25</td>\n",
              "      <td>$3.75</td>\n",
              "      <td>Genoa Road (EB Exit)</td>\n",
              "    </tr>\n",
              "    <tr>\n",
              "      <th>3</th>\n",
              "      <td>3</td>\n",
              "      <td>$0.75</td>\n",
              "      <td>$1.50</td>\n",
              "      <td>$2.50</td>\n",
              "      <td>$3.75</td>\n",
              "      <td>$6.65</td>\n",
              "      <td>$1.65</td>\n",
              "      <td>$2.90</td>\n",
              "      <td>$5.00</td>\n",
              "      <td>Genoa Road (WB Exit)</td>\n",
              "    </tr>\n",
              "    <tr>\n",
              "      <th>4</th>\n",
              "      <td>4</td>\n",
              "      <td>$0.55</td>\n",
              "      <td>$1.10</td>\n",
              "      <td>$1.95</td>\n",
              "      <td>$2.80</td>\n",
              "      <td>$5.00</td>\n",
              "      <td>$1.25</td>\n",
              "      <td>$2.25</td>\n",
              "      <td>$3.75</td>\n",
              "      <td>Illinois 173*</td>\n",
              "    </tr>\n",
              "  </tbody>\n",
              "</table>\n",
              "</div>"
            ],
            "text/plain": [
              "  id Autos: I-Pass All Times  ... Large Trucks Overnight                   Location\n",
              "0  1                   $0.95  ...                  $6.25               South Beloit\n",
              "1  2                   $0.55  ...                  $3.75  East Riverside Boulevard*\n",
              "2  3                   $0.55  ...                  $3.75       Genoa Road (EB Exit)\n",
              "3  3                   $0.75  ...                  $5.00       Genoa Road (WB Exit)\n",
              "4  4                   $0.55  ...                  $3.75              Illinois 173*\n",
              "\n",
              "[5 rows x 10 columns]"
            ]
          },
          "metadata": {
            "tags": []
          },
          "execution_count": 23
        }
      ]
    },
    {
      "cell_type": "code",
      "metadata": {
        "id": "sSLG9UID9FCs",
        "colab_type": "code",
        "colab": {}
      },
      "source": [
        ""
      ],
      "execution_count": 0,
      "outputs": []
    }
  ]
}