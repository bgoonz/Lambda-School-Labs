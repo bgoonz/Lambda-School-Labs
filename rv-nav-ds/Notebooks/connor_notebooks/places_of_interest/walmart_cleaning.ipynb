{
 "cells": [
  {
   "cell_type": "markdown",
   "metadata": {},
   "source": [
    "## Notebook Objectives"
   ]
  },
  {
   "cell_type": "markdown",
   "metadata": {},
   "source": [
    "The objective of this notebook is to transform Walmart location data for the United States and Canada downloaded from [poi factory](http://www.poi-factory.com/poifiles) for later use in the RV Nav API. This CSV was partly cleaned in MS Excel due to its smaller size. MS Excel is still a great tool for data cleaning!"
   ]
  },
  {
   "cell_type": "code",
   "execution_count": 1,
   "metadata": {},
   "outputs": [],
   "source": [
    "import pandas as pd\n",
    "import numpy as np"
   ]
  },
  {
   "cell_type": "code",
   "execution_count": 3,
   "metadata": {},
   "outputs": [],
   "source": [
    "df = pd.read_csv('../Data/Walmart_United States & Canada.csv',\n",
    "                 header=None,\n",
    "                 names= ['Longitude', 'Latitude', 'Store Type',\n",
    "                         'Store ID', 'Gas', 'Address', 'City', 'State',\n",
    "                         'Zip Code', 'Parking', 'Phone Number'])"
   ]
  },
  {
   "cell_type": "code",
   "execution_count": 4,
   "metadata": {},
   "outputs": [
    {
     "data": {
      "text/html": [
       "<div>\n",
       "<style scoped>\n",
       "    .dataframe tbody tr th:only-of-type {\n",
       "        vertical-align: middle;\n",
       "    }\n",
       "\n",
       "    .dataframe tbody tr th {\n",
       "        vertical-align: top;\n",
       "    }\n",
       "\n",
       "    .dataframe thead th {\n",
       "        text-align: right;\n",
       "    }\n",
       "</style>\n",
       "<table border=\"1\" class=\"dataframe\">\n",
       "  <thead>\n",
       "    <tr style=\"text-align: right;\">\n",
       "      <th></th>\n",
       "      <th>Longitude</th>\n",
       "      <th>Latitude</th>\n",
       "      <th>Store Type</th>\n",
       "      <th>Store ID</th>\n",
       "      <th>Gas</th>\n",
       "      <th>Address</th>\n",
       "      <th>City</th>\n",
       "      <th>State</th>\n",
       "      <th>Zip Code</th>\n",
       "      <th>Parking</th>\n",
       "      <th>Phone Number</th>\n",
       "    </tr>\n",
       "  </thead>\n",
       "  <tbody>\n",
       "    <tr>\n",
       "      <th>0</th>\n",
       "      <td>-149.881507</td>\n",
       "      <td>61.192165</td>\n",
       "      <td>Walmart  SC</td>\n",
       "      <td>#2070</td>\n",
       "      <td>NaN</td>\n",
       "      <td>3101 A St</td>\n",
       "      <td>Anchorage</td>\n",
       "      <td>AK</td>\n",
       "      <td>99503</td>\n",
       "      <td>(NOP)</td>\n",
       "      <td>(907) 563-5900</td>\n",
       "    </tr>\n",
       "    <tr>\n",
       "      <th>1</th>\n",
       "      <td>-149.742550</td>\n",
       "      <td>61.212740</td>\n",
       "      <td>Walmart  SC</td>\n",
       "      <td>#4359</td>\n",
       "      <td>NaN</td>\n",
       "      <td>7405 Debarr Rd</td>\n",
       "      <td>Anchorage</td>\n",
       "      <td>AK</td>\n",
       "      <td>99504</td>\n",
       "      <td>(NOP)</td>\n",
       "      <td>(907) 339-9039</td>\n",
       "    </tr>\n",
       "    <tr>\n",
       "      <th>2</th>\n",
       "      <td>-149.868161</td>\n",
       "      <td>61.140234</td>\n",
       "      <td>Walmart  SC</td>\n",
       "      <td>#2071</td>\n",
       "      <td>NaN</td>\n",
       "      <td>8900 Old Seward Hwy</td>\n",
       "      <td>Anchorage</td>\n",
       "      <td>AK</td>\n",
       "      <td>99515</td>\n",
       "      <td>(NOP)</td>\n",
       "      <td>(907) 344-5300</td>\n",
       "    </tr>\n",
       "    <tr>\n",
       "      <th>3</th>\n",
       "      <td>-149.535324</td>\n",
       "      <td>61.309780</td>\n",
       "      <td>Walmart  SC</td>\n",
       "      <td>#2188</td>\n",
       "      <td>NaN</td>\n",
       "      <td>18600 Eagle River Rd</td>\n",
       "      <td>Eagle River</td>\n",
       "      <td>AK</td>\n",
       "      <td>99577</td>\n",
       "      <td>(NOP)</td>\n",
       "      <td>(907) 694-9780</td>\n",
       "    </tr>\n",
       "    <tr>\n",
       "      <th>4</th>\n",
       "      <td>-147.688971</td>\n",
       "      <td>64.857356</td>\n",
       "      <td>Walmart  SC</td>\n",
       "      <td>#2722</td>\n",
       "      <td>NaN</td>\n",
       "      <td>537 Johansen Expy</td>\n",
       "      <td>Fairbanks</td>\n",
       "      <td>AK</td>\n",
       "      <td>99701</td>\n",
       "      <td>NaN</td>\n",
       "      <td>(907) 451-9900</td>\n",
       "    </tr>\n",
       "  </tbody>\n",
       "</table>\n",
       "</div>"
      ],
      "text/plain": [
       "    Longitude   Latitude   Store Type Store ID  Gas               Address  \\\n",
       "0 -149.881507  61.192165  Walmart  SC    #2070  NaN             3101 A St   \n",
       "1 -149.742550  61.212740  Walmart  SC    #4359  NaN        7405 Debarr Rd   \n",
       "2 -149.868161  61.140234  Walmart  SC    #2071  NaN   8900 Old Seward Hwy   \n",
       "3 -149.535324  61.309780  Walmart  SC    #2188  NaN  18600 Eagle River Rd   \n",
       "4 -147.688971  64.857356  Walmart  SC    #2722  NaN     537 Johansen Expy   \n",
       "\n",
       "          City State Zip Code Parking    Phone Number  \n",
       "0    Anchorage    AK    99503   (NOP)  (907) 563-5900  \n",
       "1    Anchorage    AK    99504   (NOP)  (907) 339-9039  \n",
       "2    Anchorage    AK    99515   (NOP)  (907) 344-5300  \n",
       "3  Eagle River    AK    99577   (NOP)  (907) 694-9780  \n",
       "4    Fairbanks    AK    99701     NaN  (907) 451-9900  "
      ]
     },
     "execution_count": 4,
     "metadata": {},
     "output_type": "execute_result"
    }
   ],
   "source": [
    "df.head()"
   ]
  },
  {
   "cell_type": "code",
   "execution_count": 6,
   "metadata": {},
   "outputs": [],
   "source": [
    "df['Gas'] = df['Gas'].replace('Gas.', 'Gas')"
   ]
  },
  {
   "cell_type": "code",
   "execution_count": 7,
   "metadata": {},
   "outputs": [
    {
     "data": {
      "text/plain": [
       "Gas/Diesel    2148\n",
       "Gas           1296\n",
       "Name: Gas, dtype: int64"
      ]
     },
     "execution_count": 7,
     "metadata": {},
     "output_type": "execute_result"
    }
   ],
   "source": [
    "df['Gas'].value_counts()"
   ]
  },
  {
   "cell_type": "code",
   "execution_count": 8,
   "metadata": {},
   "outputs": [],
   "source": [
    "# Replace NaN values with 'No Gas'\n",
    "df['Gas'] = df['Gas'].replace(np.nan, 'No Gas')"
   ]
  },
  {
   "cell_type": "code",
   "execution_count": 9,
   "metadata": {},
   "outputs": [
    {
     "data": {
      "text/plain": [
       "No Gas        2916\n",
       "Gas/Diesel    2148\n",
       "Gas           1296\n",
       "Name: Gas, dtype: int64"
      ]
     },
     "execution_count": 9,
     "metadata": {},
     "output_type": "execute_result"
    }
   ],
   "source": [
    "# Verify results\n",
    "df['Gas'].value_counts()"
   ]
  },
  {
   "cell_type": "code",
   "execution_count": 10,
   "metadata": {},
   "outputs": [
    {
     "data": {
      "text/html": [
       "<div>\n",
       "<style scoped>\n",
       "    .dataframe tbody tr th:only-of-type {\n",
       "        vertical-align: middle;\n",
       "    }\n",
       "\n",
       "    .dataframe tbody tr th {\n",
       "        vertical-align: top;\n",
       "    }\n",
       "\n",
       "    .dataframe thead th {\n",
       "        text-align: right;\n",
       "    }\n",
       "</style>\n",
       "<table border=\"1\" class=\"dataframe\">\n",
       "  <thead>\n",
       "    <tr style=\"text-align: right;\">\n",
       "      <th></th>\n",
       "      <th>Longitude</th>\n",
       "      <th>Latitude</th>\n",
       "      <th>Store Type</th>\n",
       "      <th>Store ID</th>\n",
       "      <th>Gas</th>\n",
       "      <th>Address</th>\n",
       "      <th>City</th>\n",
       "      <th>State</th>\n",
       "      <th>Zip Code</th>\n",
       "      <th>Parking</th>\n",
       "      <th>Phone Number</th>\n",
       "    </tr>\n",
       "  </thead>\n",
       "  <tbody>\n",
       "    <tr>\n",
       "      <th>0</th>\n",
       "      <td>-149.881507</td>\n",
       "      <td>61.192165</td>\n",
       "      <td>Walmart  SC</td>\n",
       "      <td>#2070</td>\n",
       "      <td>No Gas</td>\n",
       "      <td>3101 A St</td>\n",
       "      <td>Anchorage</td>\n",
       "      <td>AK</td>\n",
       "      <td>99503</td>\n",
       "      <td>(NOP)</td>\n",
       "      <td>(907) 563-5900</td>\n",
       "    </tr>\n",
       "    <tr>\n",
       "      <th>1</th>\n",
       "      <td>-149.742550</td>\n",
       "      <td>61.212740</td>\n",
       "      <td>Walmart  SC</td>\n",
       "      <td>#4359</td>\n",
       "      <td>No Gas</td>\n",
       "      <td>7405 Debarr Rd</td>\n",
       "      <td>Anchorage</td>\n",
       "      <td>AK</td>\n",
       "      <td>99504</td>\n",
       "      <td>(NOP)</td>\n",
       "      <td>(907) 339-9039</td>\n",
       "    </tr>\n",
       "    <tr>\n",
       "      <th>2</th>\n",
       "      <td>-149.868161</td>\n",
       "      <td>61.140234</td>\n",
       "      <td>Walmart  SC</td>\n",
       "      <td>#2071</td>\n",
       "      <td>No Gas</td>\n",
       "      <td>8900 Old Seward Hwy</td>\n",
       "      <td>Anchorage</td>\n",
       "      <td>AK</td>\n",
       "      <td>99515</td>\n",
       "      <td>(NOP)</td>\n",
       "      <td>(907) 344-5300</td>\n",
       "    </tr>\n",
       "    <tr>\n",
       "      <th>3</th>\n",
       "      <td>-149.535324</td>\n",
       "      <td>61.309780</td>\n",
       "      <td>Walmart  SC</td>\n",
       "      <td>#2188</td>\n",
       "      <td>No Gas</td>\n",
       "      <td>18600 Eagle River Rd</td>\n",
       "      <td>Eagle River</td>\n",
       "      <td>AK</td>\n",
       "      <td>99577</td>\n",
       "      <td>(NOP)</td>\n",
       "      <td>(907) 694-9780</td>\n",
       "    </tr>\n",
       "    <tr>\n",
       "      <th>4</th>\n",
       "      <td>-147.688971</td>\n",
       "      <td>64.857356</td>\n",
       "      <td>Walmart  SC</td>\n",
       "      <td>#2722</td>\n",
       "      <td>No Gas</td>\n",
       "      <td>537 Johansen Expy</td>\n",
       "      <td>Fairbanks</td>\n",
       "      <td>AK</td>\n",
       "      <td>99701</td>\n",
       "      <td>NaN</td>\n",
       "      <td>(907) 451-9900</td>\n",
       "    </tr>\n",
       "  </tbody>\n",
       "</table>\n",
       "</div>"
      ],
      "text/plain": [
       "    Longitude   Latitude   Store Type Store ID     Gas               Address  \\\n",
       "0 -149.881507  61.192165  Walmart  SC    #2070  No Gas             3101 A St   \n",
       "1 -149.742550  61.212740  Walmart  SC    #4359  No Gas        7405 Debarr Rd   \n",
       "2 -149.868161  61.140234  Walmart  SC    #2071  No Gas   8900 Old Seward Hwy   \n",
       "3 -149.535324  61.309780  Walmart  SC    #2188  No Gas  18600 Eagle River Rd   \n",
       "4 -147.688971  64.857356  Walmart  SC    #2722  No Gas     537 Johansen Expy   \n",
       "\n",
       "          City State Zip Code Parking    Phone Number  \n",
       "0    Anchorage    AK    99503   (NOP)  (907) 563-5900  \n",
       "1    Anchorage    AK    99504   (NOP)  (907) 339-9039  \n",
       "2    Anchorage    AK    99515   (NOP)  (907) 344-5300  \n",
       "3  Eagle River    AK    99577   (NOP)  (907) 694-9780  \n",
       "4    Fairbanks    AK    99701     NaN  (907) 451-9900  "
      ]
     },
     "execution_count": 10,
     "metadata": {},
     "output_type": "execute_result"
    }
   ],
   "source": [
    "df.head()"
   ]
  },
  {
   "cell_type": "code",
   "execution_count": 11,
   "metadata": {},
   "outputs": [],
   "source": [
    "# Clean correct parking values \n",
    "df['Parking'] = df['Parking'].replace('(NOP)', 'No Parking')\n",
    "df['Parking'] = df['Parking'].replace(np.nan, 'Parking Available')"
   ]
  },
  {
   "cell_type": "code",
   "execution_count": 14,
   "metadata": {},
   "outputs": [
    {
     "data": {
      "text/plain": [
       "Walmart  SC           3568\n",
       "Murphy USA            1121\n",
       "Wm Nbrhd Mkt           686\n",
       "Sam's Club             591\n",
       "Walmart                364\n",
       "Wm Pharm/Clinic         16\n",
       "Walmart Pickup           5\n",
       "WM Nbrhd Mkt             5\n",
       "Walmart Superenter       1\n",
       "Walmart SC               1\n",
       "Walmart Pharmacy         1\n",
       "wm Nbrhd Mkt             1\n",
       "Name: Store Type, dtype: int64"
      ]
     },
     "execution_count": 14,
     "metadata": {},
     "output_type": "execute_result"
    }
   ],
   "source": [
    "# Check Store Type Values\n",
    "df['Store Type'].value_counts()"
   ]
  },
  {
   "cell_type": "code",
   "execution_count": 15,
   "metadata": {},
   "outputs": [],
   "source": [
    "# Clean/Correct Store Types\n",
    "df['Store Type'] = df['Store Type'].replace('Walmart  SC', 'Walmart Supercenter')\n",
    "df['Store Type'] = df['Store Type'].replace('Walmart SC', 'Walmart Supercenter')\n",
    "df['Store Type'] = df['Store Type'].replace('Walmart Superenter', 'Walmart Supercenter')\n",
    "df['Store Type'] = df['Store Type'].replace('Wm Nbrhd Mkt', 'Walmart Neighborhood Market')\n",
    "df['Store Type'] = df['Store Type'].replace('Wm Pharm/Clinic', 'Walmart Pharmacy/Clinic')\n",
    "df['Store Type'] = df['Store Type'].replace('WM Nbrhd Mkt', 'Walmart Neighborhood Market')\n",
    "df['Store Type'] = df['Store Type'].replace('wm Nbrhd Mkt', 'Walmart Neighborhood Market')"
   ]
  },
  {
   "cell_type": "code",
   "execution_count": 16,
   "metadata": {},
   "outputs": [
    {
     "data": {
      "text/plain": [
       "Walmart Supercenter            3570\n",
       "Murphy USA                     1121\n",
       "Walmart Neighborhood Market     692\n",
       "Sam's Club                      591\n",
       "Walmart                         364\n",
       "Walmart Pharmacy/Clinic          16\n",
       "Walmart Pickup                    5\n",
       "Walmart Pharmacy                  1\n",
       "Name: Store Type, dtype: int64"
      ]
     },
     "execution_count": 16,
     "metadata": {},
     "output_type": "execute_result"
    }
   ],
   "source": [
    "# Verify corrections\n",
    "df['Store Type'].value_counts()"
   ]
  },
  {
   "cell_type": "code",
   "execution_count": 18,
   "metadata": {},
   "outputs": [
    {
     "name": "stdout",
     "output_type": "stream",
     "text": [
      "<class 'pandas.core.frame.DataFrame'>\n",
      "RangeIndex: 6360 entries, 0 to 6359\n",
      "Data columns (total 11 columns):\n",
      "Longitude       6360 non-null float64\n",
      "Latitude        6360 non-null float64\n",
      "Store Type      6360 non-null object\n",
      "Store ID        6360 non-null object\n",
      "Gas             6360 non-null object\n",
      "Address         6360 non-null object\n",
      "City            6360 non-null object\n",
      "State           6360 non-null object\n",
      "Zip Code        6360 non-null object\n",
      "Parking         6360 non-null object\n",
      "Phone Number    6360 non-null object\n",
      "dtypes: float64(2), object(9)\n",
      "memory usage: 546.6+ KB\n"
     ]
    }
   ],
   "source": [
    "# Check to ensure no null values or Longitude/Latitude columns\n",
    "df.info()"
   ]
  },
  {
   "cell_type": "code",
   "execution_count": 19,
   "metadata": {},
   "outputs": [
    {
     "data": {
      "text/html": [
       "<div>\n",
       "<style scoped>\n",
       "    .dataframe tbody tr th:only-of-type {\n",
       "        vertical-align: middle;\n",
       "    }\n",
       "\n",
       "    .dataframe tbody tr th {\n",
       "        vertical-align: top;\n",
       "    }\n",
       "\n",
       "    .dataframe thead th {\n",
       "        text-align: right;\n",
       "    }\n",
       "</style>\n",
       "<table border=\"1\" class=\"dataframe\">\n",
       "  <thead>\n",
       "    <tr style=\"text-align: right;\">\n",
       "      <th></th>\n",
       "      <th>Longitude</th>\n",
       "      <th>Latitude</th>\n",
       "      <th>Store Type</th>\n",
       "      <th>Store ID</th>\n",
       "      <th>Gas</th>\n",
       "      <th>Address</th>\n",
       "      <th>City</th>\n",
       "      <th>State</th>\n",
       "      <th>Zip Code</th>\n",
       "      <th>Parking</th>\n",
       "      <th>Phone Number</th>\n",
       "    </tr>\n",
       "  </thead>\n",
       "  <tbody>\n",
       "    <tr>\n",
       "      <th>0</th>\n",
       "      <td>-149.881507</td>\n",
       "      <td>61.192165</td>\n",
       "      <td>Walmart Supercenter</td>\n",
       "      <td>#2070</td>\n",
       "      <td>No Gas</td>\n",
       "      <td>3101 A St</td>\n",
       "      <td>Anchorage</td>\n",
       "      <td>AK</td>\n",
       "      <td>99503</td>\n",
       "      <td>No Parking</td>\n",
       "      <td>(907) 563-5900</td>\n",
       "    </tr>\n",
       "    <tr>\n",
       "      <th>1</th>\n",
       "      <td>-149.742550</td>\n",
       "      <td>61.212740</td>\n",
       "      <td>Walmart Supercenter</td>\n",
       "      <td>#4359</td>\n",
       "      <td>No Gas</td>\n",
       "      <td>7405 Debarr Rd</td>\n",
       "      <td>Anchorage</td>\n",
       "      <td>AK</td>\n",
       "      <td>99504</td>\n",
       "      <td>No Parking</td>\n",
       "      <td>(907) 339-9039</td>\n",
       "    </tr>\n",
       "    <tr>\n",
       "      <th>2</th>\n",
       "      <td>-149.868161</td>\n",
       "      <td>61.140234</td>\n",
       "      <td>Walmart Supercenter</td>\n",
       "      <td>#2071</td>\n",
       "      <td>No Gas</td>\n",
       "      <td>8900 Old Seward Hwy</td>\n",
       "      <td>Anchorage</td>\n",
       "      <td>AK</td>\n",
       "      <td>99515</td>\n",
       "      <td>No Parking</td>\n",
       "      <td>(907) 344-5300</td>\n",
       "    </tr>\n",
       "    <tr>\n",
       "      <th>3</th>\n",
       "      <td>-149.535324</td>\n",
       "      <td>61.309780</td>\n",
       "      <td>Walmart Supercenter</td>\n",
       "      <td>#2188</td>\n",
       "      <td>No Gas</td>\n",
       "      <td>18600 Eagle River Rd</td>\n",
       "      <td>Eagle River</td>\n",
       "      <td>AK</td>\n",
       "      <td>99577</td>\n",
       "      <td>No Parking</td>\n",
       "      <td>(907) 694-9780</td>\n",
       "    </tr>\n",
       "    <tr>\n",
       "      <th>4</th>\n",
       "      <td>-147.688971</td>\n",
       "      <td>64.857356</td>\n",
       "      <td>Walmart Supercenter</td>\n",
       "      <td>#2722</td>\n",
       "      <td>No Gas</td>\n",
       "      <td>537 Johansen Expy</td>\n",
       "      <td>Fairbanks</td>\n",
       "      <td>AK</td>\n",
       "      <td>99701</td>\n",
       "      <td>Parking Available</td>\n",
       "      <td>(907) 451-9900</td>\n",
       "    </tr>\n",
       "  </tbody>\n",
       "</table>\n",
       "</div>"
      ],
      "text/plain": [
       "    Longitude   Latitude           Store Type Store ID     Gas  \\\n",
       "0 -149.881507  61.192165  Walmart Supercenter    #2070  No Gas   \n",
       "1 -149.742550  61.212740  Walmart Supercenter    #4359  No Gas   \n",
       "2 -149.868161  61.140234  Walmart Supercenter    #2071  No Gas   \n",
       "3 -149.535324  61.309780  Walmart Supercenter    #2188  No Gas   \n",
       "4 -147.688971  64.857356  Walmart Supercenter    #2722  No Gas   \n",
       "\n",
       "                Address         City State Zip Code            Parking  \\\n",
       "0             3101 A St    Anchorage    AK    99503         No Parking   \n",
       "1        7405 Debarr Rd    Anchorage    AK    99504         No Parking   \n",
       "2   8900 Old Seward Hwy    Anchorage    AK    99515         No Parking   \n",
       "3  18600 Eagle River Rd  Eagle River    AK    99577         No Parking   \n",
       "4     537 Johansen Expy    Fairbanks    AK    99701  Parking Available   \n",
       "\n",
       "     Phone Number  \n",
       "0  (907) 563-5900  \n",
       "1  (907) 339-9039  \n",
       "2  (907) 344-5300  \n",
       "3  (907) 694-9780  \n",
       "4  (907) 451-9900  "
      ]
     },
     "execution_count": 19,
     "metadata": {},
     "output_type": "execute_result"
    }
   ],
   "source": [
    "# One last verification\n",
    "df.head()"
   ]
  },
  {
   "cell_type": "markdown",
   "metadata": {},
   "source": [
    "Our dataset is now ready to be used in our API!"
   ]
  },
  {
   "cell_type": "code",
   "execution_count": 20,
   "metadata": {},
   "outputs": [],
   "source": [
    "df.to_csv('Walmart_API.csv')"
   ]
  }
 ],
 "metadata": {
  "kernelspec": {
   "display_name": "Python 3",
   "language": "python",
   "name": "python3"
  },
  "language_info": {
   "codemirror_mode": {
    "name": "ipython",
    "version": 3
   },
   "file_extension": ".py",
   "mimetype": "text/x-python",
   "name": "python",
   "nbconvert_exporter": "python",
   "pygments_lexer": "ipython3",
   "version": "3.7.1"
  }
 },
 "nbformat": 4,
 "nbformat_minor": 2
}
