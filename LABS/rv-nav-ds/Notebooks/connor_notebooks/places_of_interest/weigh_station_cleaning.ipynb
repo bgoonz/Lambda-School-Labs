{
 "cells": [
  {
   "cell_type": "markdown",
   "metadata": {},
   "source": [
    "## Notebook Objectives"
   ]
  },
  {
   "cell_type": "markdown",
   "metadata": {},
   "source": [
    "The objective of this notebook is to transform weigh station data for the United States and Canada downloaded from [poi factory](http://www.poi-factory.com/poifiles) for later use in the RV Nav API. This CSV was partly cleaned in MS Excel due to its smaller size. MS Excel is still a great tool for data cleaning!"
   ]
  },
  {
   "cell_type": "code",
   "execution_count": 1,
   "metadata": {},
   "outputs": [],
   "source": [
    "import pandas as pd"
   ]
  },
  {
   "cell_type": "code",
   "execution_count": 18,
   "metadata": {},
   "outputs": [],
   "source": [
    "df = pd.read_csv('../Data/Weigh Station TourGuide.csv', names=['Longitude', 'Latitude', 'Name', 'Location'])"
   ]
  },
  {
   "cell_type": "code",
   "execution_count": 19,
   "metadata": {},
   "outputs": [
    {
     "data": {
      "text/html": [
       "<div>\n",
       "<style scoped>\n",
       "    .dataframe tbody tr th:only-of-type {\n",
       "        vertical-align: middle;\n",
       "    }\n",
       "\n",
       "    .dataframe tbody tr th {\n",
       "        vertical-align: top;\n",
       "    }\n",
       "\n",
       "    .dataframe thead th {\n",
       "        text-align: right;\n",
       "    }\n",
       "</style>\n",
       "<table border=\"1\" class=\"dataframe\">\n",
       "  <thead>\n",
       "    <tr style=\"text-align: right;\">\n",
       "      <th></th>\n",
       "      <th>Longitude</th>\n",
       "      <th>Latitude</th>\n",
       "      <th>Name</th>\n",
       "      <th>Location</th>\n",
       "    </tr>\n",
       "  </thead>\n",
       "  <tbody>\n",
       "    <tr>\n",
       "      <th>0</th>\n",
       "      <td>-98.84565</td>\n",
       "      <td>27.77428</td>\n",
       "      <td>HOMELAND SECURITY CHECK STATION</td>\n",
       "      <td>Laredo Texas</td>\n",
       "    </tr>\n",
       "    <tr>\n",
       "      <th>1</th>\n",
       "      <td>-99.39336</td>\n",
       "      <td>27.90539</td>\n",
       "      <td>HOMELAND SECURITY CHECK STATION</td>\n",
       "      <td>Laredo Texas</td>\n",
       "    </tr>\n",
       "    <tr>\n",
       "      <th>2</th>\n",
       "      <td>-98.19172</td>\n",
       "      <td>28.54667</td>\n",
       "      <td>Weigh Station</td>\n",
       "      <td>Three Rivers Texas</td>\n",
       "    </tr>\n",
       "    <tr>\n",
       "      <th>3</th>\n",
       "      <td>-98.19551</td>\n",
       "      <td>28.55786</td>\n",
       "      <td>Weigh Station</td>\n",
       "      <td>Three Rivers Texas</td>\n",
       "    </tr>\n",
       "    <tr>\n",
       "      <th>4</th>\n",
       "      <td>-98.13804</td>\n",
       "      <td>27.02447</td>\n",
       "      <td>HOMELAND SECURITY CHECK STATION</td>\n",
       "      <td>South of Falfurrias Texas</td>\n",
       "    </tr>\n",
       "  </tbody>\n",
       "</table>\n",
       "</div>"
      ],
      "text/plain": [
       "   Longitude  Latitude                             Name  \\\n",
       "0  -98.84565  27.77428  HOMELAND SECURITY CHECK STATION   \n",
       "1  -99.39336  27.90539  HOMELAND SECURITY CHECK STATION   \n",
       "2  -98.19172  28.54667                    Weigh Station   \n",
       "3  -98.19551  28.55786                    Weigh Station   \n",
       "4  -98.13804  27.02447  HOMELAND SECURITY CHECK STATION   \n",
       "\n",
       "                    Location  \n",
       "0               Laredo Texas  \n",
       "1               Laredo Texas  \n",
       "2         Three Rivers Texas  \n",
       "3         Three Rivers Texas  \n",
       "4  South of Falfurrias Texas  "
      ]
     },
     "execution_count": 19,
     "metadata": {},
     "output_type": "execute_result"
    }
   ],
   "source": [
    "df.head()"
   ]
  },
  {
   "cell_type": "code",
   "execution_count": 20,
   "metadata": {},
   "outputs": [
    {
     "name": "stdout",
     "output_type": "stream",
     "text": [
      "<class 'pandas.core.frame.DataFrame'>\n",
      "RangeIndex: 956 entries, 0 to 955\n",
      "Data columns (total 4 columns):\n",
      "Longitude    956 non-null float64\n",
      "Latitude     956 non-null float64\n",
      "Name         956 non-null object\n",
      "Location     941 non-null object\n",
      "dtypes: float64(2), object(2)\n",
      "memory usage: 30.0+ KB\n"
     ]
    }
   ],
   "source": [
    "df.info()"
   ]
  },
  {
   "cell_type": "code",
   "execution_count": 21,
   "metadata": {},
   "outputs": [
    {
     "data": {
      "text/plain": [
       "Weigh Station                                              921\n",
       "HOMELAND SECURITY CHECK STATION                              5\n",
       "Inspection Station                                           4\n",
       "Inspection Site                                              3\n",
       "RANDOM Roadside Inspection Area                              2\n",
       "ROADSIDE CHECK STATION                                       2\n",
       "Fuel Inspection                                              2\n",
       "N Salisbury Blvd US 13 SB Salisbury MD weigh station         1\n",
       "I 91 Nb Deerfield MA weigh station                           1\n",
       "N Salisbury Blvd US 13 SB Delmar MD weigh station            1\n",
       "I 95 Sb Port St. Lucie FL weigh station                      1\n",
       "Agriculture Inspection Station                               1\n",
       "I 95 Nb Hobe Sound FL weigh station                          1\n",
       "Weigh Station NY I-81 Sb                                     1\n",
       "I 95 Sb Yardley PA                                           1\n",
       "N Salisbury Blvd US 13 NB Delmar MD weigh station            1\n",
       "Lancaster Pike N US 222 NB PA                                1\n",
       "I 495 Sb Capital Beltway S Silver Spring MD Exit 27          1\n",
       "Roadside Inspection Station                                  1\n",
       "I 91 Sb Deerfield MA weigh station                           1\n",
       "Lankford Hwy US 13 SB Weigh Station New Church VA            1\n",
       "Hwy 146 Nb Uxbridge Weigh Station                            1\n",
       "I 84 Eb weigh station MA                                     1\n",
       "I-77 Nb Camp Creek WV Weigh Station                          1\n",
       "Name: Name, dtype: int64"
      ]
     },
     "execution_count": 21,
     "metadata": {},
     "output_type": "execute_result"
    }
   ],
   "source": [
    "df['Name'].value_counts()"
   ]
  },
  {
   "cell_type": "code",
   "execution_count": 103,
   "metadata": {},
   "outputs": [],
   "source": [
    "# Clean categories for weigh station name\n",
    "df['Name'] = df['Name'].replace('HOMELAND SECURITY CHECK STATION', 'Homeland Security Check Station')\n",
    "df['Name'] = df['Name'].replace('RANDOM Roadside Inspection Area', 'Random Roadside Inspection Area')\n",
    "df['Name'] = df['Name'].replace('ROADSIDE CHECK STATION', 'Roadside Check Station')\n",
    "df['Name'] = df['Name'].replace('HOMELAND SECURITY CHECK STATION', 'Homeland Security Check Station')\n",
    "df['Name'] = df['Name'].replace('N Salisbury Blvd US 13 SB Salisbury MD weigh station', 'Weigh Station')\n",
    "df['Name'] = df['Name'].replace('I 91 Nb Deerfield MA weigh station', 'Weigh Station')\n",
    "df['Name'] = df['Name'].replace('I 95 Sb Port St. Lucie FL weigh station ', 'Weigh Station')\n",
    "df['Name'] = df['Name'].replace('I 95 Nb Hobe Sound FL weigh station', 'Weigh Station')\n",
    "df['Name'] = df['Name'].replace('Weigh Station NY I-81 Sb ', 'Weigh Station')\n",
    "df['Name'] = df['Name'].replace('I 95 Sb Yardley PA', 'Weigh Station')\n",
    "df['Name'] = df['Name'].replace('Lancaster Pike N US 222 NB PA', 'Weigh Station')\n",
    "df['Name'] = df['Name'].replace('I 495 Sb Capital Beltway S Silver Spring MD Exit 27', 'Weigh Station')\n",
    "df['Name'] = df['Name'].replace('I 91 Sb Deerfield MA weigh station ', 'Weigh Station')\n",
    "df['Name'] = df['Name'].replace('Hwy 146 Nb Uxbridge Weigh Station', 'Weigh Station')\n",
    "df['Name'] = df['Name'].replace('I 84 Eb weigh station MA ', 'Weigh Station')\n",
    "df['Name'] = df['Name'].replace('I-77 Nb Camp Creek WV Weigh Station ', 'Weigh Station')\n",
    "df['Name'] = df['Name'].replace('N Salisbury Blvd US 13 SB Salisbury MD weigh station', 'Weigh Station')\n",
    "df['Name'] = df['Name'].replace('N Salisbury Blvd US 13 NB Delmar MD weigh station ', 'Weigh Station')\n",
    "df['Name'] = df['Name'].replace('Lankford Hwy US 13 SB Weigh Station New Church VA', 'Weigh Station')"
   ]
  },
  {
   "cell_type": "code",
   "execution_count": 104,
   "metadata": {},
   "outputs": [
    {
     "data": {
      "text/plain": [
       "Weigh Station                                              933\n",
       "Homeland Security Check Station                              5\n",
       "Inspection Station                                           4\n",
       "Inspection Site                                              3\n",
       "Fuel Inspection                                              2\n",
       "Roadside Check Station                                       2\n",
       "Random Roadside Inspection Area                              2\n",
       "N Salisbury Blvd US 13 NB Delmar MD weigh station            1\n",
       "Roadside Inspection Station                                  1\n",
       "Lankford Hwy US 13 SB Weigh Station New Church VA            1\n",
       "Agriculture Inspection Station                               1\n",
       "N Salisbury Blvd US 13 SB Salisbury MD weigh station         1\n",
       "Name: Name, dtype: int64"
      ]
     },
     "execution_count": 104,
     "metadata": {},
     "output_type": "execute_result"
    }
   ],
   "source": [
    "df['Name'].value_counts()"
   ]
  },
  {
   "cell_type": "markdown",
   "metadata": {},
   "source": [
    "Our dataset is now ready to be used in our API!"
   ]
  },
  {
   "cell_type": "code",
   "execution_count": 102,
   "metadata": {},
   "outputs": [],
   "source": [
    "df.to_csv('Weight_Station_API.csv')"
   ]
  }
 ],
 "metadata": {
  "kernelspec": {
   "display_name": "Python 3",
   "language": "python",
   "name": "python3"
  },
  "language_info": {
   "codemirror_mode": {
    "name": "ipython",
    "version": 3
   },
   "file_extension": ".py",
   "mimetype": "text/x-python",
   "name": "python",
   "nbconvert_exporter": "python",
   "pygments_lexer": "ipython3",
   "version": "3.7.1"
  }
 },
 "nbformat": 4,
 "nbformat_minor": 2
}
